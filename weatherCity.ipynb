{
 "cells": [
  {
   "cell_type": "code",
   "execution_count": 2,
   "metadata": {},
   "outputs": [],
   "source": [
    "import requests as req\n",
    "import json\n",
    "from datetime import datetime"
   ]
  },
  {
   "cell_type": "code",
   "execution_count": 3,
   "metadata": {},
   "outputs": [],
   "source": [
    "class weatherCity(object):\n",
    "    \n",
    "    def __init__(self, name, appID, url, units):\n",
    "        self.units = units\n",
    "        self.parametr = dict(q=name, appid=appID, units=self.units)\n",
    "        self.data = req.get(url, self.parametr).json()\n",
    "        self.lat = self.data[\"city\"][\"coord\"][\"lat\"]\n",
    "        self.lon = self.data[\"city\"][\"coord\"][\"lon\"]\n",
    "\n",
    "        \n",
    "    def jprint(self):\n",
    "        text = json.dumps(self.data, sort_keys=True, indent=4)\n",
    "        print(text)\n",
    "\n",
    "    def maxPressure(self):\n",
    "        tempPressure = 0\n",
    "        for i in range(len(self.data[\"list\"])):\n",
    "            tempPressure = max(int(self.data[\"list\"][i][\"main\"][\"pressure\"]), tempPressure)\n",
    "        return tempPressure\n",
    "    \n",
    "    def minTempFiveDay(self):\n",
    "        url_s = \"http://api.openweathermap.org/data/2.5/onecall\"\n",
    "        param = dict(lat=self.lat, lon=self.lon, exclude=\"current, minutely, hourly\", units=self.units, appid=appID)\n",
    "        tempData = req.get(url_s, param).json()\n",
    "        minTemp = abs(float(tempData[\"daily\"][0][\"temp\"][\"night\"])-float(tempData[\"daily\"][0][\"temp\"][\"morn\"]))\n",
    "        data = tempData[\"daily\"][0][\"dt\"]\n",
    "        for i in range(1,5):\n",
    "            if (abs(float(tempData[\"daily\"][i][\"temp\"][\"night\"])-float(tempData[\"daily\"][i][\"temp\"][\"morn\"])) < minTemp):\n",
    "                minTemp = abs(float(tempData[\"daily\"][i][\"temp\"][\"night\"])-float(tempData[\"daily\"][i][\"temp\"][\"morn\"]))\n",
    "                data = tempData[\"daily\"][i][\"dt\"]\n",
    "        return data\n",
    "    "
   ]
  },
  {
   "cell_type": "code",
   "execution_count": 7,
   "metadata": {},
   "outputs": [
    {
     "name": "stdout",
     "output_type": "stream",
     "text": [
      "Максимальное давление за предстоящие 5 дней (включая текущий): 1046\n",
      "День с минимальной разницей между ночной (night) и утренней (morn) температуройЖ 21-04-2021 °C\n"
     ]
    }
   ],
   "source": [
    "url = \"http://api.openweathermap.org/data/2.5/forecast\"\n",
    "nameCity = \"Novosibirsk\"\n",
    "appID = \"7ba3d63092edfbb26e037e1a7426aa1f\"\n",
    "units = \"metric\"\n",
    "weatherNov = weatherCity(nameCity, appID, url, units)\n",
    "print(\"Максимальное давление за предстоящие 5 дней (включая текущий):\", weatherNov.maxPressure())\n",
    "ts = int(weatherNov.minTempFiveDay())\n",
    "print(\"День с минимальной разницей между ночной (night) и утренней (morn) температуройЖ\", datetime.utcfromtimestamp(ts).strftime('%d-%m-%Y'), \"\\N{DEGREE SIGN}C\")"
   ]
  },
  {
   "cell_type": "code",
   "execution_count": null,
   "metadata": {},
   "outputs": [],
   "source": []
  }
 ],
 "metadata": {
  "kernelspec": {
   "display_name": "Python 3",
   "language": "python",
   "name": "python3"
  },
  "language_info": {
   "codemirror_mode": {
    "name": "ipython",
    "version": 3
   },
   "file_extension": ".py",
   "mimetype": "text/x-python",
   "name": "python",
   "nbconvert_exporter": "python",
   "pygments_lexer": "ipython3",
   "version": "3.8.5"
  }
 },
 "nbformat": 4,
 "nbformat_minor": 4
}
